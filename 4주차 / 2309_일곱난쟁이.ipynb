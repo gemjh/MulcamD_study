{
  "nbformat": 4,
  "nbformat_minor": 0,
  "metadata": {
    "colab": {
      "name": "2309 일곱난쟁이.ipynb",
      "provenance": [],
      "authorship_tag": "ABX9TyMBNj0rTZYqYRg6+UfuDG60",
      "include_colab_link": true
    },
    "kernelspec": {
      "name": "python3",
      "display_name": "Python 3"
    },
    "language_info": {
      "name": "python"
    }
  },
  "cells": [
    {
      "cell_type": "markdown",
      "metadata": {
        "id": "view-in-github",
        "colab_type": "text"
      },
      "source": [
        "<a href=\"https://colab.research.google.com/github/gemjh/MulcamD_study/blob/master/4%EC%A3%BC%EC%B0%A8%20/%202309_%EC%9D%BC%EA%B3%B1%EB%82%9C%EC%9F%81%EC%9D%B4.ipynb\" target=\"_parent\"><img src=\"https://colab.research.google.com/assets/colab-badge.svg\" alt=\"Open In Colab\"/></a>"
      ]
    },
    {
      "cell_type": "code",
      "execution_count": null,
      "metadata": {
        "id": "D_oqDTdz7n9X"
      },
      "outputs": [],
      "source": [
        "import random\n",
        "l=[]\n",
        "for i in range(9):\n",
        "    a=int(input())\n",
        "    l.append(a)\n",
        "h=0\n",
        "dwrfs=[]\n",
        "while h!=100:\n",
        "  dwrfs=list(random.sample(l,7))\n",
        "  if sum(dwrfs)!=100:\n",
        "    dwrfs=[]\n",
        "  else:\n",
        "    h=sum(dwrfs)\n",
        "dwrfs.sort()    \n",
        "for i in dwrfs:\n",
        "  print(i)"
      ]
    }
  ]
}